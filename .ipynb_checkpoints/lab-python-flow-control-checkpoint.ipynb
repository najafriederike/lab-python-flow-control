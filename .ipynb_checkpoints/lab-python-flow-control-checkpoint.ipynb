{
 "cells": [
  {
   "cell_type": "markdown",
   "id": "d3bfc191-8885-42ee-b0a0-bbab867c6f9f",
   "metadata": {
    "tags": []
   },
   "source": [
    "# Lab | Flow Control"
   ]
  },
  {
   "cell_type": "markdown",
   "id": "3851fcd1-cf98-4653-9c89-e003b7ec9400",
   "metadata": {},
   "source": [
    "## Exercise: Managing Customer Orders Optimized\n",
    "\n",
    "In the last lab, you were starting an online store that sells various products. To ensure smooth operations, you developed a program that manages customer orders and inventory.\n",
    "\n",
    "You did so without using flow control. Let's go a step further and improve this code.\n",
    "\n",
    "Follow the steps below to complete the exercise:\n",
    "\n",
    "1. Look at your code from the lab data structures, and improve repeated code with loops.\n",
    "\n",
    "2. Instead of asking the user to input the name of three products that a customer wants to order, do the following:\n",
    "    \n",
    "    a. Prompt the user to enter the name of a product that a customer wants to order.\n",
    "    \n",
    "    b. Add the product name to the \"customer_orders\" set.\n",
    "    \n",
    "    c. Ask the user if they want to add another product (yes/no).\n",
    "    \n",
    "    d. Continue the loop until the user does not want to add another product.\n",
    "\n",
    "3. Instead of updating the inventory by subtracting 1 from the quantity of each product, only do it for  the products that were ordered (those in \"customer_orders\")."
   ]
  },
  {
   "cell_type": "code",
   "execution_count": 1,
   "id": "dd19af95-8950-4650-87e4-4ef8a595a4a6",
   "metadata": {},
   "outputs": [
    {
     "data": {
      "text/plain": [
       "['t-shirt', 'mug', 'hat', 'book', 'keychain']"
      ]
     },
     "execution_count": 1,
     "metadata": {},
     "output_type": "execute_result"
    }
   ],
   "source": [
    "#1\n",
    "list = [\"t-shirt\", \"mug\", \"hat\", \"book\", \"keychain\"]\n",
    "list"
   ]
  },
  {
   "cell_type": "code",
   "execution_count": 3,
   "id": "ad538462-f103-4242-a98f-55dd228b5530",
   "metadata": {},
   "outputs": [
    {
     "name": "stdin",
     "output_type": "stream",
     "text": [
      "Please input a quantity: 2\n",
      "Please input a quantity: 4\n",
      "Please input a quantity: 6\n",
      "Please input a quantity: 8\n",
      "Please input a quantity: 10\n"
     ]
    },
    {
     "data": {
      "text/plain": [
       "{'t-shirt': 2, 'mug': 4, 'hat': 6, 'book': 8, 'keychain': 10}"
      ]
     },
     "execution_count": 3,
     "metadata": {},
     "output_type": "execute_result"
    }
   ],
   "source": [
    "#1\n",
    "inventory = {}\n",
    "for item in list:\n",
    "    inventory[item] = (int(input(\"Please input a quantity:\")))\n",
    "inventory"
   ]
  },
  {
   "cell_type": "code",
   "execution_count": 5,
   "id": "a9073dd0-a093-4ec1-9ba7-416ffc1d62f7",
   "metadata": {},
   "outputs": [
    {
     "name": "stdin",
     "output_type": "stream",
     "text": [
      "Please choose three items from the list: t-shirt, mug, hat, book, keychain:  mug\n",
      "Please choose three items from the list: t-shirt, mug, hat, book, keychain:  hat\n",
      "Please choose three items from the list: t-shirt, mug, hat, book, keychain:  book\n"
     ]
    },
    {
     "data": {
      "text/plain": [
       "{'book', 'hat', 'mug'}"
      ]
     },
     "execution_count": 5,
     "metadata": {},
     "output_type": "execute_result"
    }
   ],
   "source": [
    "#1\n",
    "customer_orders = set()\n",
    "for x in range (3):\n",
    "    customer_orders.add(input(\"Please choose three items from the list: t-shirt, mug, hat, book, keychain: \"))\n",
    "customer_orders"
   ]
  },
  {
   "cell_type": "code",
   "execution_count": 7,
   "id": "98b56b71-3bc8-4023-811b-770c27c0c72f",
   "metadata": {},
   "outputs": [
    {
     "name": "stdout",
     "output_type": "stream",
     "text": [
      "t-shirt 2\n",
      "mug 4\n",
      "hat 6\n",
      "book 8\n",
      "keychain 10\n"
     ]
    }
   ],
   "source": [
    "#1 Option 1\n",
    "for item in inventory:\n",
    "    print(item, inventory[item])"
   ]
  },
  {
   "cell_type": "code",
   "execution_count": 29,
   "id": "e51afda3-0dd7-44da-8e35-8fc685aac227",
   "metadata": {},
   "outputs": [
    {
     "name": "stdout",
     "output_type": "stream",
     "text": [
      "t-shirt 4\n",
      "mug 6\n",
      "hat 8\n",
      "book 10\n",
      "keychain 12\n"
     ]
    }
   ],
   "source": [
    "#1 Option 2\n",
    "for key, value in inventory.items():\n",
    "    print(key, value)"
   ]
  },
  {
   "cell_type": "code",
   "execution_count": 49,
   "id": "97160cc6-da55-4542-b5ab-69880efc94e6",
   "metadata": {},
   "outputs": [
    {
     "name": "stdout",
     "output_type": "stream",
     "text": [
      "4\n",
      "6\n",
      "8\n",
      "10\n",
      "12\n",
      "t-shirt\n",
      "mug\n",
      "hat\n",
      "book\n",
      "keychain\n",
      "For t-shirt the value is 4.\n",
      "For mug the value is 6.\n",
      "For hat the value is 8.\n",
      "For book the value is 10.\n",
      "For keychain the value is 12.\n"
     ]
    }
   ],
   "source": [
    "#Test\n",
    "for value in inventory.values():\n",
    "    print(value)\n",
    "\n",
    "for key in inventory.keys():\n",
    "    print(key)\n",
    "\n",
    "for key, value in inventory.items():\n",
    "    # Accessing each key-value pair\n",
    "    print(f\"For {key} the value is {value}.\")"
   ]
  },
  {
   "cell_type": "code",
   "execution_count": 54,
   "id": "dd0f4cea-7637-42bb-bdbf-8743f9261e05",
   "metadata": {},
   "outputs": [
    {
     "name": "stdout",
     "output_type": "stream",
     "text": [
      "2\n",
      "4\n",
      "6\n",
      "8\n",
      "10\n"
     ]
    }
   ],
   "source": [
    "#Test\n",
    "for number in range(1, 11):\n",
    "    if number % 2 == 0:\n",
    "        print(number)"
   ]
  },
  {
   "cell_type": "code",
   "execution_count": 19,
   "id": "4dc45d92-ea71-4fb8-8e51-b939f982975f",
   "metadata": {},
   "outputs": [
    {
     "name": "stdin",
     "output_type": "stream",
     "text": [
      "Which product (t-shirt, mug, hat, book, keychain) do you want to order? mug\n",
      "Do you want to order another item? Type yes or no! yes\n",
      "Which product (t-shirt, mug, hat, book, keychain) do you want to order? keychain\n",
      "Do you want to order another item? Type yes or no! yes\n",
      "Which product (t-shirt, mug, hat, book, keychain) do you want to order? book\n",
      "Do you want to order another item? Type yes or no! no\n"
     ]
    },
    {
     "name": "stdout",
     "output_type": "stream",
     "text": [
      "Thanks for your order!\n"
     ]
    }
   ],
   "source": [
    "#2\n",
    "customer_orders2 = set()\n",
    "customer_orders2.add(input(\"Which product (t-shirt, mug, hat, book, keychain) do you want to order?\"))\n",
    "answer = 'yes' # Set answer initially to \"yes\" to enter the loop\n",
    "\n",
    "while answer == 'yes':\n",
    "    answer = input(\"Do you want to order another item? Type yes or no!\")  \n",
    "    \n",
    "    if answer == 'yes':\n",
    "        customer_orders2.add(input(\"Which product (t-shirt, mug, hat, book, keychain) do you want to order?\"))\n",
    "    else:\n",
    "        print(\"Thanks for your order!\")\n",
    "        break  # Exit the loop"
   ]
  },
  {
   "cell_type": "code",
   "execution_count": 15,
   "id": "b13fea9f-a385-46c4-b46e-9cc8db83fb67",
   "metadata": {},
   "outputs": [
    {
     "name": "stdin",
     "output_type": "stream",
     "text": [
      "Which product (t-shirt, mug, hat, book, keychain) do you want to order?  mug\n",
      "Do you want to order another item? Type yes or no!  no\n"
     ]
    },
    {
     "name": "stdout",
     "output_type": "stream",
     "text": [
      "Thanks for your order!\n"
     ]
    }
   ],
   "source": [
    "# Suggestion by Ironhack ChatBot:\n",
    "customer_orders2 = set()\n",
    "customer_orders2.add(input(\"Which product (t-shirt, mug, hat, book, keychain) do you want to order? \"))\n",
    "\n",
    "answer = \"yes\" # Set answer initially to \"yes\" to enter the loop\n",
    "\n",
    "while answer.lower() == \"yes\":\n",
    "    answer = input(\"Do you want to order another item? Type yes or no! \")\n",
    "    \n",
    "    if answer.lower() == \"yes\":\n",
    "        customer_orders2.add(input(\"Which product (t-shirt, mug, hat, book, keychain) do you want to order? \"))\n",
    "    elif answer.lower() == \"no\":\n",
    "        print(\"Thanks for your order!\")\n",
    "        break  # Exit the loop\n",
    "    else:\n",
    "        print(\"Please type 'yes' or 'no'.\")"
   ]
  },
  {
   "cell_type": "code",
   "execution_count": 101,
   "id": "e5366457-311d-4b0c-901e-5b3d5428f7cb",
   "metadata": {},
   "outputs": [
    {
     "name": "stdout",
     "output_type": "stream",
     "text": [
      "{'t-shirt': -2, 'mug': 0, 'hat': 2, 'book': 4, 'keychain': 12}\n"
     ]
    }
   ],
   "source": [
    "#3\n",
    "for item in customer_orders2:\n",
    "    if item in inventory: # Checking key existence:\n",
    "        inventory[item] -= 1 # accessing value of a specific inventory's item\n",
    "print(inventory)        \n"
   ]
  }
 ],
 "metadata": {
  "kernelspec": {
   "display_name": "Python 3 (ipykernel)",
   "language": "python",
   "name": "python3"
  },
  "language_info": {
   "codemirror_mode": {
    "name": "ipython",
    "version": 3
   },
   "file_extension": ".py",
   "mimetype": "text/x-python",
   "name": "python",
   "nbconvert_exporter": "python",
   "pygments_lexer": "ipython3",
   "version": "3.12.4"
  }
 },
 "nbformat": 4,
 "nbformat_minor": 5
}
